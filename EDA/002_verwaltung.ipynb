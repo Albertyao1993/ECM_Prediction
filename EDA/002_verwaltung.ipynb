{
 "cells": [
  {
   "cell_type": "code",
   "id": "initial_id",
   "metadata": {
    "collapsed": true,
    "ExecuteTime": {
     "end_time": "2024-10-28T13:39:34.056791Z",
     "start_time": "2024-10-28T13:39:34.042755Z"
    }
   },
   "source": [
    "import os\n",
    "import pandas as pd\n",
    "import numpy as np\n",
    "import matplotlib.pyplot as plt\n",
    "import seaborn as sns\n",
    "sns.set(style=\"whitegrid\")"
   ],
   "outputs": [],
   "execution_count": 1
  },
  {
   "metadata": {},
   "cell_type": "markdown",
   "source": "# Load the Data",
   "id": "752d6a7abe68aef5"
  },
  {
   "cell_type": "code",
   "id": "f3ebf9b79bbfd563",
   "metadata": {
    "ExecuteTime": {
     "end_time": "2024-10-28T13:39:35.017553Z",
     "start_time": "2024-10-28T13:39:34.056791Z"
    }
   },
   "source": [
    "\n",
    "# Define the file path\n",
    "file_path = '../Raw_Datasets/Gebäude Lastgang/002 Verwaltung 3.csv'\n",
    "\n",
    "# Read the file into a DataFrame\n",
    "df = pd.read_csv(file_path, sep=';',header=0,names=['DateTime','electricity','heating'])\n",
    "\n",
    "# Display the first few rows of the DataFrame\n",
    "print(df.head())"
   ],
   "outputs": [
    {
     "ename": "FileNotFoundError",
     "evalue": "[Errno 2] No such file or directory: '../Raw_Datasets/Gebäude Lastgang/002 Verwaltung 3.csv'",
     "output_type": "error",
     "traceback": [
      "\u001B[1;31m---------------------------------------------------------------------------\u001B[0m",
      "\u001B[1;31mFileNotFoundError\u001B[0m                         Traceback (most recent call last)",
      "Cell \u001B[1;32mIn[2], line 5\u001B[0m\n\u001B[0;32m      2\u001B[0m file_path \u001B[38;5;241m=\u001B[39m \u001B[38;5;124m'\u001B[39m\u001B[38;5;124m../Raw_Datasets/Gebäude Lastgang/002 Verwaltung 3.csv\u001B[39m\u001B[38;5;124m'\u001B[39m\n\u001B[0;32m      4\u001B[0m \u001B[38;5;66;03m# Read the file into a DataFrame\u001B[39;00m\n\u001B[1;32m----> 5\u001B[0m df \u001B[38;5;241m=\u001B[39m \u001B[43mpd\u001B[49m\u001B[38;5;241;43m.\u001B[39;49m\u001B[43mread_csv\u001B[49m\u001B[43m(\u001B[49m\u001B[43mfile_path\u001B[49m\u001B[43m,\u001B[49m\u001B[43m \u001B[49m\u001B[43msep\u001B[49m\u001B[38;5;241;43m=\u001B[39;49m\u001B[38;5;124;43m'\u001B[39;49m\u001B[38;5;124;43m;\u001B[39;49m\u001B[38;5;124;43m'\u001B[39;49m\u001B[43m,\u001B[49m\u001B[43mheader\u001B[49m\u001B[38;5;241;43m=\u001B[39;49m\u001B[38;5;241;43m0\u001B[39;49m\u001B[43m,\u001B[49m\u001B[43mnames\u001B[49m\u001B[38;5;241;43m=\u001B[39;49m\u001B[43m[\u001B[49m\u001B[38;5;124;43m'\u001B[39;49m\u001B[38;5;124;43mDateTime\u001B[39;49m\u001B[38;5;124;43m'\u001B[39;49m\u001B[43m,\u001B[49m\u001B[38;5;124;43m'\u001B[39;49m\u001B[38;5;124;43melectricity\u001B[39;49m\u001B[38;5;124;43m'\u001B[39;49m\u001B[43m,\u001B[49m\u001B[38;5;124;43m'\u001B[39;49m\u001B[38;5;124;43mheating\u001B[39;49m\u001B[38;5;124;43m'\u001B[39;49m\u001B[43m]\u001B[49m\u001B[43m)\u001B[49m\n\u001B[0;32m      7\u001B[0m \u001B[38;5;66;03m# Display the first few rows of the DataFrame\u001B[39;00m\n\u001B[0;32m      8\u001B[0m \u001B[38;5;28mprint\u001B[39m(df\u001B[38;5;241m.\u001B[39mhead())\n",
      "File \u001B[1;32mD:\\Users\\guoqi\\miniconda3\\envs\\py38\\lib\\site-packages\\pandas\\io\\parsers\\readers.py:912\u001B[0m, in \u001B[0;36mread_csv\u001B[1;34m(filepath_or_buffer, sep, delimiter, header, names, index_col, usecols, dtype, engine, converters, true_values, false_values, skipinitialspace, skiprows, skipfooter, nrows, na_values, keep_default_na, na_filter, verbose, skip_blank_lines, parse_dates, infer_datetime_format, keep_date_col, date_parser, date_format, dayfirst, cache_dates, iterator, chunksize, compression, thousands, decimal, lineterminator, quotechar, quoting, doublequote, escapechar, comment, encoding, encoding_errors, dialect, on_bad_lines, delim_whitespace, low_memory, memory_map, float_precision, storage_options, dtype_backend)\u001B[0m\n\u001B[0;32m    899\u001B[0m kwds_defaults \u001B[38;5;241m=\u001B[39m _refine_defaults_read(\n\u001B[0;32m    900\u001B[0m     dialect,\n\u001B[0;32m    901\u001B[0m     delimiter,\n\u001B[1;32m   (...)\u001B[0m\n\u001B[0;32m    908\u001B[0m     dtype_backend\u001B[38;5;241m=\u001B[39mdtype_backend,\n\u001B[0;32m    909\u001B[0m )\n\u001B[0;32m    910\u001B[0m kwds\u001B[38;5;241m.\u001B[39mupdate(kwds_defaults)\n\u001B[1;32m--> 912\u001B[0m \u001B[38;5;28;01mreturn\u001B[39;00m \u001B[43m_read\u001B[49m\u001B[43m(\u001B[49m\u001B[43mfilepath_or_buffer\u001B[49m\u001B[43m,\u001B[49m\u001B[43m \u001B[49m\u001B[43mkwds\u001B[49m\u001B[43m)\u001B[49m\n",
      "File \u001B[1;32mD:\\Users\\guoqi\\miniconda3\\envs\\py38\\lib\\site-packages\\pandas\\io\\parsers\\readers.py:577\u001B[0m, in \u001B[0;36m_read\u001B[1;34m(filepath_or_buffer, kwds)\u001B[0m\n\u001B[0;32m    574\u001B[0m _validate_names(kwds\u001B[38;5;241m.\u001B[39mget(\u001B[38;5;124m\"\u001B[39m\u001B[38;5;124mnames\u001B[39m\u001B[38;5;124m\"\u001B[39m, \u001B[38;5;28;01mNone\u001B[39;00m))\n\u001B[0;32m    576\u001B[0m \u001B[38;5;66;03m# Create the parser.\u001B[39;00m\n\u001B[1;32m--> 577\u001B[0m parser \u001B[38;5;241m=\u001B[39m \u001B[43mTextFileReader\u001B[49m\u001B[43m(\u001B[49m\u001B[43mfilepath_or_buffer\u001B[49m\u001B[43m,\u001B[49m\u001B[43m \u001B[49m\u001B[38;5;241;43m*\u001B[39;49m\u001B[38;5;241;43m*\u001B[39;49m\u001B[43mkwds\u001B[49m\u001B[43m)\u001B[49m\n\u001B[0;32m    579\u001B[0m \u001B[38;5;28;01mif\u001B[39;00m chunksize \u001B[38;5;129;01mor\u001B[39;00m iterator:\n\u001B[0;32m    580\u001B[0m     \u001B[38;5;28;01mreturn\u001B[39;00m parser\n",
      "File \u001B[1;32mD:\\Users\\guoqi\\miniconda3\\envs\\py38\\lib\\site-packages\\pandas\\io\\parsers\\readers.py:1407\u001B[0m, in \u001B[0;36mTextFileReader.__init__\u001B[1;34m(self, f, engine, **kwds)\u001B[0m\n\u001B[0;32m   1404\u001B[0m     \u001B[38;5;28mself\u001B[39m\u001B[38;5;241m.\u001B[39moptions[\u001B[38;5;124m\"\u001B[39m\u001B[38;5;124mhas_index_names\u001B[39m\u001B[38;5;124m\"\u001B[39m] \u001B[38;5;241m=\u001B[39m kwds[\u001B[38;5;124m\"\u001B[39m\u001B[38;5;124mhas_index_names\u001B[39m\u001B[38;5;124m\"\u001B[39m]\n\u001B[0;32m   1406\u001B[0m \u001B[38;5;28mself\u001B[39m\u001B[38;5;241m.\u001B[39mhandles: IOHandles \u001B[38;5;241m|\u001B[39m \u001B[38;5;28;01mNone\u001B[39;00m \u001B[38;5;241m=\u001B[39m \u001B[38;5;28;01mNone\u001B[39;00m\n\u001B[1;32m-> 1407\u001B[0m \u001B[38;5;28mself\u001B[39m\u001B[38;5;241m.\u001B[39m_engine \u001B[38;5;241m=\u001B[39m \u001B[38;5;28;43mself\u001B[39;49m\u001B[38;5;241;43m.\u001B[39;49m\u001B[43m_make_engine\u001B[49m\u001B[43m(\u001B[49m\u001B[43mf\u001B[49m\u001B[43m,\u001B[49m\u001B[43m \u001B[49m\u001B[38;5;28;43mself\u001B[39;49m\u001B[38;5;241;43m.\u001B[39;49m\u001B[43mengine\u001B[49m\u001B[43m)\u001B[49m\n",
      "File \u001B[1;32mD:\\Users\\guoqi\\miniconda3\\envs\\py38\\lib\\site-packages\\pandas\\io\\parsers\\readers.py:1661\u001B[0m, in \u001B[0;36mTextFileReader._make_engine\u001B[1;34m(self, f, engine)\u001B[0m\n\u001B[0;32m   1659\u001B[0m     \u001B[38;5;28;01mif\u001B[39;00m \u001B[38;5;124m\"\u001B[39m\u001B[38;5;124mb\u001B[39m\u001B[38;5;124m\"\u001B[39m \u001B[38;5;129;01mnot\u001B[39;00m \u001B[38;5;129;01min\u001B[39;00m mode:\n\u001B[0;32m   1660\u001B[0m         mode \u001B[38;5;241m+\u001B[39m\u001B[38;5;241m=\u001B[39m \u001B[38;5;124m\"\u001B[39m\u001B[38;5;124mb\u001B[39m\u001B[38;5;124m\"\u001B[39m\n\u001B[1;32m-> 1661\u001B[0m \u001B[38;5;28mself\u001B[39m\u001B[38;5;241m.\u001B[39mhandles \u001B[38;5;241m=\u001B[39m \u001B[43mget_handle\u001B[49m\u001B[43m(\u001B[49m\n\u001B[0;32m   1662\u001B[0m \u001B[43m    \u001B[49m\u001B[43mf\u001B[49m\u001B[43m,\u001B[49m\n\u001B[0;32m   1663\u001B[0m \u001B[43m    \u001B[49m\u001B[43mmode\u001B[49m\u001B[43m,\u001B[49m\n\u001B[0;32m   1664\u001B[0m \u001B[43m    \u001B[49m\u001B[43mencoding\u001B[49m\u001B[38;5;241;43m=\u001B[39;49m\u001B[38;5;28;43mself\u001B[39;49m\u001B[38;5;241;43m.\u001B[39;49m\u001B[43moptions\u001B[49m\u001B[38;5;241;43m.\u001B[39;49m\u001B[43mget\u001B[49m\u001B[43m(\u001B[49m\u001B[38;5;124;43m\"\u001B[39;49m\u001B[38;5;124;43mencoding\u001B[39;49m\u001B[38;5;124;43m\"\u001B[39;49m\u001B[43m,\u001B[49m\u001B[43m \u001B[49m\u001B[38;5;28;43;01mNone\u001B[39;49;00m\u001B[43m)\u001B[49m\u001B[43m,\u001B[49m\n\u001B[0;32m   1665\u001B[0m \u001B[43m    \u001B[49m\u001B[43mcompression\u001B[49m\u001B[38;5;241;43m=\u001B[39;49m\u001B[38;5;28;43mself\u001B[39;49m\u001B[38;5;241;43m.\u001B[39;49m\u001B[43moptions\u001B[49m\u001B[38;5;241;43m.\u001B[39;49m\u001B[43mget\u001B[49m\u001B[43m(\u001B[49m\u001B[38;5;124;43m\"\u001B[39;49m\u001B[38;5;124;43mcompression\u001B[39;49m\u001B[38;5;124;43m\"\u001B[39;49m\u001B[43m,\u001B[49m\u001B[43m \u001B[49m\u001B[38;5;28;43;01mNone\u001B[39;49;00m\u001B[43m)\u001B[49m\u001B[43m,\u001B[49m\n\u001B[0;32m   1666\u001B[0m \u001B[43m    \u001B[49m\u001B[43mmemory_map\u001B[49m\u001B[38;5;241;43m=\u001B[39;49m\u001B[38;5;28;43mself\u001B[39;49m\u001B[38;5;241;43m.\u001B[39;49m\u001B[43moptions\u001B[49m\u001B[38;5;241;43m.\u001B[39;49m\u001B[43mget\u001B[49m\u001B[43m(\u001B[49m\u001B[38;5;124;43m\"\u001B[39;49m\u001B[38;5;124;43mmemory_map\u001B[39;49m\u001B[38;5;124;43m\"\u001B[39;49m\u001B[43m,\u001B[49m\u001B[43m \u001B[49m\u001B[38;5;28;43;01mFalse\u001B[39;49;00m\u001B[43m)\u001B[49m\u001B[43m,\u001B[49m\n\u001B[0;32m   1667\u001B[0m \u001B[43m    \u001B[49m\u001B[43mis_text\u001B[49m\u001B[38;5;241;43m=\u001B[39;49m\u001B[43mis_text\u001B[49m\u001B[43m,\u001B[49m\n\u001B[0;32m   1668\u001B[0m \u001B[43m    \u001B[49m\u001B[43merrors\u001B[49m\u001B[38;5;241;43m=\u001B[39;49m\u001B[38;5;28;43mself\u001B[39;49m\u001B[38;5;241;43m.\u001B[39;49m\u001B[43moptions\u001B[49m\u001B[38;5;241;43m.\u001B[39;49m\u001B[43mget\u001B[49m\u001B[43m(\u001B[49m\u001B[38;5;124;43m\"\u001B[39;49m\u001B[38;5;124;43mencoding_errors\u001B[39;49m\u001B[38;5;124;43m\"\u001B[39;49m\u001B[43m,\u001B[49m\u001B[43m \u001B[49m\u001B[38;5;124;43m\"\u001B[39;49m\u001B[38;5;124;43mstrict\u001B[39;49m\u001B[38;5;124;43m\"\u001B[39;49m\u001B[43m)\u001B[49m\u001B[43m,\u001B[49m\n\u001B[0;32m   1669\u001B[0m \u001B[43m    \u001B[49m\u001B[43mstorage_options\u001B[49m\u001B[38;5;241;43m=\u001B[39;49m\u001B[38;5;28;43mself\u001B[39;49m\u001B[38;5;241;43m.\u001B[39;49m\u001B[43moptions\u001B[49m\u001B[38;5;241;43m.\u001B[39;49m\u001B[43mget\u001B[49m\u001B[43m(\u001B[49m\u001B[38;5;124;43m\"\u001B[39;49m\u001B[38;5;124;43mstorage_options\u001B[39;49m\u001B[38;5;124;43m\"\u001B[39;49m\u001B[43m,\u001B[49m\u001B[43m \u001B[49m\u001B[38;5;28;43;01mNone\u001B[39;49;00m\u001B[43m)\u001B[49m\u001B[43m,\u001B[49m\n\u001B[0;32m   1670\u001B[0m \u001B[43m\u001B[49m\u001B[43m)\u001B[49m\n\u001B[0;32m   1671\u001B[0m \u001B[38;5;28;01massert\u001B[39;00m \u001B[38;5;28mself\u001B[39m\u001B[38;5;241m.\u001B[39mhandles \u001B[38;5;129;01mis\u001B[39;00m \u001B[38;5;129;01mnot\u001B[39;00m \u001B[38;5;28;01mNone\u001B[39;00m\n\u001B[0;32m   1672\u001B[0m f \u001B[38;5;241m=\u001B[39m \u001B[38;5;28mself\u001B[39m\u001B[38;5;241m.\u001B[39mhandles\u001B[38;5;241m.\u001B[39mhandle\n",
      "File \u001B[1;32mD:\\Users\\guoqi\\miniconda3\\envs\\py38\\lib\\site-packages\\pandas\\io\\common.py:859\u001B[0m, in \u001B[0;36mget_handle\u001B[1;34m(path_or_buf, mode, encoding, compression, memory_map, is_text, errors, storage_options)\u001B[0m\n\u001B[0;32m    854\u001B[0m \u001B[38;5;28;01melif\u001B[39;00m \u001B[38;5;28misinstance\u001B[39m(handle, \u001B[38;5;28mstr\u001B[39m):\n\u001B[0;32m    855\u001B[0m     \u001B[38;5;66;03m# Check whether the filename is to be opened in binary mode.\u001B[39;00m\n\u001B[0;32m    856\u001B[0m     \u001B[38;5;66;03m# Binary mode does not support 'encoding' and 'newline'.\u001B[39;00m\n\u001B[0;32m    857\u001B[0m     \u001B[38;5;28;01mif\u001B[39;00m ioargs\u001B[38;5;241m.\u001B[39mencoding \u001B[38;5;129;01mand\u001B[39;00m \u001B[38;5;124m\"\u001B[39m\u001B[38;5;124mb\u001B[39m\u001B[38;5;124m\"\u001B[39m \u001B[38;5;129;01mnot\u001B[39;00m \u001B[38;5;129;01min\u001B[39;00m ioargs\u001B[38;5;241m.\u001B[39mmode:\n\u001B[0;32m    858\u001B[0m         \u001B[38;5;66;03m# Encoding\u001B[39;00m\n\u001B[1;32m--> 859\u001B[0m         handle \u001B[38;5;241m=\u001B[39m \u001B[38;5;28;43mopen\u001B[39;49m\u001B[43m(\u001B[49m\n\u001B[0;32m    860\u001B[0m \u001B[43m            \u001B[49m\u001B[43mhandle\u001B[49m\u001B[43m,\u001B[49m\n\u001B[0;32m    861\u001B[0m \u001B[43m            \u001B[49m\u001B[43mioargs\u001B[49m\u001B[38;5;241;43m.\u001B[39;49m\u001B[43mmode\u001B[49m\u001B[43m,\u001B[49m\n\u001B[0;32m    862\u001B[0m \u001B[43m            \u001B[49m\u001B[43mencoding\u001B[49m\u001B[38;5;241;43m=\u001B[39;49m\u001B[43mioargs\u001B[49m\u001B[38;5;241;43m.\u001B[39;49m\u001B[43mencoding\u001B[49m\u001B[43m,\u001B[49m\n\u001B[0;32m    863\u001B[0m \u001B[43m            \u001B[49m\u001B[43merrors\u001B[49m\u001B[38;5;241;43m=\u001B[39;49m\u001B[43merrors\u001B[49m\u001B[43m,\u001B[49m\n\u001B[0;32m    864\u001B[0m \u001B[43m            \u001B[49m\u001B[43mnewline\u001B[49m\u001B[38;5;241;43m=\u001B[39;49m\u001B[38;5;124;43m\"\u001B[39;49m\u001B[38;5;124;43m\"\u001B[39;49m\u001B[43m,\u001B[49m\n\u001B[0;32m    865\u001B[0m \u001B[43m        \u001B[49m\u001B[43m)\u001B[49m\n\u001B[0;32m    866\u001B[0m     \u001B[38;5;28;01melse\u001B[39;00m:\n\u001B[0;32m    867\u001B[0m         \u001B[38;5;66;03m# Binary mode\u001B[39;00m\n\u001B[0;32m    868\u001B[0m         handle \u001B[38;5;241m=\u001B[39m \u001B[38;5;28mopen\u001B[39m(handle, ioargs\u001B[38;5;241m.\u001B[39mmode)\n",
      "\u001B[1;31mFileNotFoundError\u001B[0m: [Errno 2] No such file or directory: '../Raw_Datasets/Gebäude Lastgang/002 Verwaltung 3.csv'"
     ]
    }
   ],
   "execution_count": 2
  },
  {
   "cell_type": "code",
   "id": "fcaa4e46",
   "metadata": {},
   "source": "df.info()",
   "outputs": [],
   "execution_count": null
  },
  {
   "cell_type": "code",
   "id": "a7100462d581e65b",
   "metadata": {},
   "source": "df.describe()",
   "outputs": [],
   "execution_count": null
  },
  {
   "cell_type": "code",
   "id": "e8721030b3608839",
   "metadata": {},
   "source": "df.count()",
   "outputs": [],
   "execution_count": null
  },
  {
   "metadata": {},
   "cell_type": "markdown",
   "source": "# add 15min differences features",
   "id": "3e0c0fdcbedec20d"
  },
  {
   "metadata": {},
   "cell_type": "code",
   "source": [
    "\n",
    "def calculate_differences(df):\n",
    "    # 确保电力和供暖列是数值类型\n",
    "    df['electricity'] = df['electricity'].str.replace(',', '.').astype(float)\n",
    "    df['heating'] = df['heating'].str.replace(',', '.').astype(float)\n",
    "    \n",
    "    # 计算差值\n",
    "    df['electricity_15min_diff'] = df['electricity'].diff()\n",
    "    df['heating_15min_diff'] = df['heating'].diff()\n",
    "    df.fillna(0, inplace=True)\n",
    "    \n",
    "    return df\n"
   ],
   "id": "acf437182edd8e71",
   "outputs": [],
   "execution_count": null
  },
  {
   "metadata": {},
   "cell_type": "code",
   "source": "df = calculate_differences(df)\n",
   "id": "ee6c8ad226f3cfa4",
   "outputs": [],
   "execution_count": null
  },
  {
   "metadata": {},
   "cell_type": "code",
   "source": "df.head()",
   "id": "8d32b29018e0c4e7",
   "outputs": [],
   "execution_count": null
  },
  {
   "metadata": {},
   "cell_type": "code",
   "source": [
    "desc = df.describe()\n",
    "desc"
   ],
   "id": "2a8493ccdda6a9a6",
   "outputs": [],
   "execution_count": null
  },
  {
   "metadata": {},
   "cell_type": "code",
   "source": [
    "max_values = desc.loc['max']\n",
    "\n",
    "# 找出对应列的最大值所在的行\n",
    "max_rows = df[(df['electricity'] == max_values['electricity']) |\n",
    "              (df['heating'] == max_values['heating']) |\n",
    "              (df['electricity_15min_diff'] == max_values['electricity_15min_diff']) |\n",
    "              (df['heating_15min_diff'] == max_values['heating_15min_diff'])]"
   ],
   "id": "3a0f6aea6ad31302",
   "outputs": [],
   "execution_count": null
  },
  {
   "metadata": {},
   "cell_type": "code",
   "source": "max_rows",
   "id": "7cb2c85952259c10",
   "outputs": [],
   "execution_count": null
  },
  {
   "metadata": {},
   "cell_type": "code",
   "source": [
    "# # 绘制电力数据的折线图\n",
    "# plt.figure(figsize=(14, 7))\n",
    "# sns.lineplot(x='DateTime', y='electricity', data=df)\n",
    "# plt.title('Electricity Over Time')\n",
    "# plt.xlabel('DateTime')\n",
    "# plt.ylabel('Electricity')\n",
    "# plt.xticks(rotation=45)\n",
    "# plt.show()"
   ],
   "id": "1eebe16435ea5fda",
   "outputs": [],
   "execution_count": null
  },
  {
   "metadata": {},
   "cell_type": "code",
   "source": [
    "# # 绘制供暖数据的折线图\n",
    "# plt.figure(figsize=(14, 7))\n",
    "# sns.lineplot(x='DateTime', y='heating', data=df)\n",
    "# plt.title('Heating Over Time')\n",
    "# plt.xlabel('DateTime')\n",
    "# plt.ylabel('Heating')\n",
    "# plt.xticks(rotation=45)\n",
    "# plt.show()"
   ],
   "id": "81774e3f51dd9f66",
   "outputs": [],
   "execution_count": null
  },
  {
   "metadata": {},
   "cell_type": "code",
   "source": [
    "# # 绘制电力15分钟差值的折线图\n",
    "# plt.figure(figsize=(14, 7))\n",
    "# sns.lineplot(x='DateTime', y='electricity_15min_diff', data=df)\n",
    "# plt.title('Electricity 15min Difference Over Time')\n",
    "# plt.xlabel('DateTime')\n",
    "# plt.ylabel('Electricity 15min Difference')\n",
    "# plt.xticks(rotation=45)\n",
    "# plt.show()"
   ],
   "id": "bba5d64ccb9fc430",
   "outputs": [],
   "execution_count": null
  },
  {
   "metadata": {},
   "cell_type": "code",
   "source": [
    "# # 绘制供暖15分钟差值的折线图\n",
    "# plt.figure(figsize=(14, 7))\n",
    "# sns.lineplot(x='DateTime', y='heating_15min_diff', data=df)\n",
    "# plt.title('Heating 15min Difference Over Time')\n",
    "# plt.xlabel('DateTime')\n",
    "# plt.ylabel('Heating 15min Difference')\n",
    "# plt.xticks(rotation=45)\n",
    "# plt.show()"
   ],
   "id": "39219bd9c4330b3d",
   "outputs": [],
   "execution_count": null
  },
  {
   "metadata": {},
   "cell_type": "code",
   "source": [
    "\n",
    "# 计算相关矩阵\n",
    "correlation_matrix = df[['electricity', 'heating', 'electricity_15min_diff', 'heating_15min_diff']].corr()\n",
    "\n",
    "# 设置绘图风格\n",
    "sns.set(style=\"whitegrid\")\n",
    "\n",
    "# 绘制热力图\n",
    "plt.figure(figsize=(10, 8))\n",
    "sns.heatmap(correlation_matrix, annot=True, cmap='coolwarm', vmin=-1, vmax=1)\n",
    "plt.title('Correlation Matrix')\n",
    "plt.show()"
   ],
   "id": "93b9894ec8a9d5ac",
   "outputs": [],
   "execution_count": null
  },
  {
   "metadata": {},
   "cell_type": "code",
   "source": "df.keys()",
   "id": "2ddd276f383ee48e",
   "outputs": [],
   "execution_count": null
  },
  {
   "metadata": {},
   "cell_type": "code",
   "source": "df.set_index('DateTime', inplace=True)",
   "id": "365349c49c65bb45",
   "outputs": [],
   "execution_count": null
  },
  {
   "metadata": {},
   "cell_type": "code",
   "source": "df.index.name",
   "id": "7717f78d9f83b370",
   "outputs": [],
   "execution_count": null
  },
  {
   "metadata": {},
   "cell_type": "code",
   "source": [
    "\n",
    "# Convert the index to a DatetimeIndex\n",
    "df.index = pd.to_datetime(df.index, format='%d.%m.%Y %H:%M')\n",
    "\n",
    "# Resample the DataFrame to weekly frequency\n",
    "df_weekly = df.resample('W').mean()\n",
    "\n",
    "# Plot each column in the DataFrame\n",
    "plt.figure(figsize=(14, 7))\n",
    "for column in df_weekly.columns:\n",
    "    sns.lineplot(data=df_weekly, x=df_weekly.index, y=column, label=column)\n",
    "\n",
    "plt.title('Weekly Data Over Time')\n",
    "plt.xlabel('DateTime')\n",
    "plt.ylabel('Values')\n",
    "plt.xticks(rotation=45)\n",
    "plt.legend()\n",
    "plt.show()"
   ],
   "id": "b6f2e7d8710e9651",
   "outputs": [],
   "execution_count": null
  },
  {
   "metadata": {},
   "cell_type": "code",
   "source": "df",
   "id": "2f9ca105115706ab",
   "outputs": [],
   "execution_count": null
  },
  {
   "metadata": {},
   "cell_type": "code",
   "source": [
    "# Assuming df is already defined and DateTime is the index\n",
    "df.index = pd.to_datetime(df.index)\n",
    "\n",
    "# Resample the data to weekly frequency\n",
    "weekly_df = df.resample('W').mean()\n",
    "\n",
    "# Plot the data\n",
    "plt.figure(figsize=(14, 7))\n",
    "sns.lineplot(data=weekly_df)\n",
    "plt.title('Weekly Data')\n",
    "plt.xlabel('Date')\n",
    "plt.ylabel('Values')\n",
    "plt.legend(labels=weekly_df.columns)\n",
    "plt.show()"
   ],
   "id": "e99471524be3bca4",
   "outputs": [],
   "execution_count": null
  },
  {
   "metadata": {},
   "cell_type": "code",
   "source": [
    "# Assuming df is already defined and DateTime is the index\n",
    "df.index = pd.to_datetime(df.index)\n",
    "\n",
    "# Resample the data to weekly frequency\n",
    "weekly_df = df['heating_15min_diff'].resample('W').mean()\n",
    "\n",
    "# Plot the data\n",
    "plt.figure(figsize=(14, 7))\n",
    "sns.lineplot(data=weekly_df)\n",
    "plt.title('Weekly Heating 15min Difference')\n",
    "plt.xlabel('Date')\n",
    "plt.ylabel('Heating 15min Difference')\n",
    "plt.show()"
   ],
   "id": "eb010c044cc77aa2",
   "outputs": [],
   "execution_count": null
  },
  {
   "metadata": {},
   "cell_type": "code",
   "source": [
    "# Assuming df is already defined and DateTime is the index\n",
    "df.index = pd.to_datetime(df.index)\n",
    "\n",
    "# Resample the data to weekly frequency\n",
    "weekly_df = df['heating_15min_diff'].resample('D').mean()\n",
    "\n",
    "# Plot the data\n",
    "plt.figure(figsize=(14, 7))\n",
    "sns.lineplot(data=weekly_df)\n",
    "plt.title('Daily Heating 15min Difference')\n",
    "plt.xlabel('Date')\n",
    "plt.ylabel('Heating 15min Difference')\n",
    "plt.show()"
   ],
   "id": "4ec11f895175ff29",
   "outputs": [],
   "execution_count": null
  },
  {
   "metadata": {},
   "cell_type": "code",
   "source": [
    "# Assuming df is already defined and DateTime is the index\n",
    "df.index = pd.to_datetime(df.index)\n",
    "\n",
    "# Resample the data to weekly frequency\n",
    "weekly_df = df['electricity_15min_diff'].resample('W').mean()\n",
    "\n",
    "# Plot the data\n",
    "plt.figure(figsize=(14, 7))\n",
    "sns.lineplot(data=weekly_df)\n",
    "plt.title('Weekly electricity 15min Difference')\n",
    "plt.xlabel('Date')\n",
    "plt.ylabel('Electricity 15min Difference')\n",
    "plt.show()"
   ],
   "id": "bd297fae0540036a",
   "outputs": [],
   "execution_count": null
  },
  {
   "metadata": {},
   "cell_type": "code",
   "source": [
    "# Assuming df is already defined and DateTime is the index\n",
    "df.index = pd.to_datetime(df.index)\n",
    "\n",
    "# Resample the data to weekly frequency\n",
    "weekly_df = df['electricity_15min_diff'].resample('D').mean()\n",
    "\n",
    "# Plot the data\n",
    "plt.figure(figsize=(14, 7))\n",
    "sns.lineplot(data=weekly_df)\n",
    "plt.title('Daily electricity 15min Difference')\n",
    "plt.xlabel('Date')\n",
    "plt.ylabel('Electricity 15min Difference')\n",
    "plt.show()"
   ],
   "id": "4136eb8bdca737e1",
   "outputs": [],
   "execution_count": null
  },
  {
   "metadata": {},
   "cell_type": "code",
   "source": "df_export = df.drop(columns=['electricity', 'heating'])",
   "id": "881094d55cfa3dce",
   "outputs": [],
   "execution_count": null
  },
  {
   "metadata": {},
   "cell_type": "code",
   "source": "df_export",
   "id": "4be7de7e8e89dd6a",
   "outputs": [],
   "execution_count": null
  },
  {
   "metadata": {},
   "cell_type": "code",
   "source": [
    "\n",
    "# Define the output folder and file path\n",
    "output_folder = '..\\\\data_preprocessing\\\\Processed_data'\n",
    "output_file = os.path.join(output_folder, '002_verwaltung.csv')\n",
    "\n",
    "# Create the folder if it doesn't exist\n",
    "os.makedirs(output_folder, exist_ok=True)\n",
    "\n",
    "# Export the DataFrame to a CSV file\n",
    "df_export.to_csv(output_file)\n",
    "\n",
    "print(f\"DataFrame exported to {output_file}\")"
   ],
   "id": "f55f4440de18da26",
   "outputs": [],
   "execution_count": null
  },
  {
   "metadata": {},
   "cell_type": "markdown",
   "source": "# Add Working Hours and Holidays",
   "id": "553ce38068d19496"
  },
  {
   "metadata": {},
   "cell_type": "code",
   "source": "df",
   "id": "684574265b5d4ed7",
   "outputs": [],
   "execution_count": null
  },
  {
   "metadata": {},
   "cell_type": "code",
   "source": "!pip install holidays",
   "id": "b52b2f236fd99382",
   "outputs": [],
   "execution_count": null
  },
  {
   "metadata": {},
   "cell_type": "code",
   "source": [
    "import holidays\n",
    "\n",
    "DE_holidays = holidays.Germany()\n",
    "\n",
    "def add_working_hours_and_holidays(df):\n",
    "    # Convert the index to a DatetimeIndex\n",
    "    df.index = pd.to_datetime(df.index, format='%d.%m.%Y %H:%M')\n",
    "\n",
    "    # Add a column for whether the day is a holiday\n",
    "    df['is_holiday'] = df.index.map(lambda x: x in DE_holidays or x.weekday() >= 5)\n",
    "\n",
    "    # Add a column for the day of the week (0=Monday, 6=Sunday)\n",
    "    df['day_of_week'] = df.index.dayofweek\n",
    "\n",
    "    # Add a column for the hour of the day\n",
    "    df['hour_of_day'] = df.index.hour\n",
    "\n",
    "    # Add a column to mark working hours (9:00-17:00) on non-holiday weekdays\n",
    "    df['is_working_hour'] = ((df['day_of_week'] < 5) & \n",
    "                             (df['hour_of_day'] >= 9) & \n",
    "                             (df['hour_of_day'] < 17) & \n",
    "                             (~df['is_holiday']))\n",
    "\n",
    "    return df\n",
    "\n",
    "df_copy = df.copy()\n",
    "df_copy = add_working_hours_and_holidays(df_copy)"
   ],
   "id": "a87794744e403708",
   "outputs": [],
   "execution_count": null
  },
  {
   "metadata": {},
   "cell_type": "code",
   "source": "",
   "id": "618f550f9f66a700",
   "outputs": [],
   "execution_count": null
  },
  {
   "metadata": {},
   "cell_type": "code",
   "source": "df_copy",
   "id": "f3ef8681f6558320",
   "outputs": [],
   "execution_count": null
  },
  {
   "metadata": {},
   "cell_type": "code",
   "source": "df_with_holidays_export = df_copy.drop(columns=['electricity', 'heating'])",
   "id": "af014aa77b22ffa5",
   "outputs": [],
   "execution_count": null
  },
  {
   "metadata": {},
   "cell_type": "code",
   "source": [
    "\n",
    "# Define the output folder and file path\n",
    "output_folder = '..\\\\data_preprocessing\\\\Processed_data'\n",
    "output_file = os.path.join(output_folder, '002_verwaltung_with_holidays.csv')\n",
    "\n",
    "# Create the folder if it doesn't exist\n",
    "os.makedirs(output_folder, exist_ok=True)\n",
    "\n",
    "# Export the DataFrame to a CSV file\n",
    "df_with_holidays_export.to_csv(output_file)\n",
    "\n",
    "print(f\"DataFrame exported to {output_file}\")"
   ],
   "id": "fe84180e1763f6fe",
   "outputs": [],
   "execution_count": null
  },
  {
   "metadata": {},
   "cell_type": "markdown",
   "source": [
    "# Add Rolling Statistics\n",
    "- simulate number of person in building based on gaussian distribution\n",
    "- target temperature is 22 degree during working hours. otherwise, set indoor temperature same value  as Temperature, \n",
    "- add difference between target temperature and actual temperature"
   ],
   "id": "f8947c5ef31e7609"
  },
  {
   "metadata": {},
   "cell_type": "code",
   "source": "df_copy",
   "id": "9014a39b664be5a4",
   "outputs": [],
   "execution_count": null
  },
  {
   "metadata": {},
   "cell_type": "markdown",
   "source": [
    "## Simulate Number of Persons in Building\n",
    "- Assume  75% area of the building is for office, 25% area is for public area\n",
    "- Buidling area is 3486 m^2\n",
    "- 8m^2 per person"
   ],
   "id": "ad23d077b879d4f5"
  },
  {
   "metadata": {},
   "cell_type": "code",
   "source": [
    "# Define the building parameters\n",
    "total_area = 3486  # Total building area in square meters\n",
    "office_area_percentage = 0.75  # Percentage of the area designated for office\n",
    "space_per_person = 8  # Space per person in square meters\n",
    "\n",
    "# Calculate the office area\n",
    "office_area = total_area * office_area_percentage\n",
    "\n",
    "# Calculate the theoretical average number of people and convert to integer\n",
    "average_people = int(office_area / space_per_person)\n",
    "\n",
    "print(f\"Theoretical average number of people in the office: {average_people}\")"
   ],
   "id": "fd872ea56947b401",
   "outputs": [],
   "execution_count": null
  },
  {
   "metadata": {},
   "cell_type": "code",
   "source": [
    "# Define the parameters for the normal distribution\n",
    "mean_people = 326  # Theoretical mean number of people\n",
    "std_dev_people = mean_people * 0.10  # 10% of the mean\n",
    "\n",
    "# Generate the simulated data for working hours\n",
    "working_hours_count = df_copy[df_copy['is_working_hour']].shape[0]\n",
    "simulated_people = np.random.normal(loc=mean_people, scale=std_dev_people, size=working_hours_count)\n",
    "\n",
    "# Ensure no negative values and convert to integers\n",
    "simulated_people = np.clip(simulated_people, 0, None).astype(int)\n",
    "\n",
    "# Create a new column for the number of people\n",
    "df_copy['number_of_people'] = 0\n",
    "\n",
    "# Assign the simulated data to the working hours\n",
    "df_copy.loc[df_copy['is_working_hour'], 'number_of_people'] = simulated_people\n",
    "\n",
    "# Display the DataFrame with the new column\n",
    "print(df_copy[['is_working_hour', 'number_of_people']].head())"
   ],
   "id": "6200fbdd04738bcd",
   "outputs": [],
   "execution_count": null
  },
  {
   "metadata": {},
   "cell_type": "code",
   "source": "df_copy",
   "id": "ea28adb92a6006df",
   "outputs": [],
   "execution_count": null
  },
  {
   "metadata": {},
   "cell_type": "code",
   "source": "df_with_counts_person = df_copy.drop(columns=['electricity', 'heating'])",
   "id": "9ef8cdaf561e3809",
   "outputs": [],
   "execution_count": null
  },
  {
   "metadata": {},
   "cell_type": "code",
   "source": [
    "\n",
    "# Define the output folder and file path\n",
    "output_folder = '..\\\\data_preprocessing\\\\Processed_data'\n",
    "output_file = os.path.join(output_folder, '002_verwaltung_with_holidays_counrs_person.csv')\n",
    "\n",
    "# Create the folder if it doesn't exist\n",
    "os.makedirs(output_folder, exist_ok=True)\n",
    "\n",
    "# Export the DataFrame to a CSV file\n",
    "df_with_counts_person.to_csv(output_file)\n",
    "\n",
    "print(f\"DataFrame exported to {output_file}\")"
   ],
   "id": "c82e06b859164c80",
   "outputs": [],
   "execution_count": null
  },
  {
   "metadata": {},
   "cell_type": "code",
   "source": "df_with_counts_person",
   "id": "592919fa9ef4a662",
   "outputs": [],
   "execution_count": null
  },
  {
   "metadata": {},
   "cell_type": "markdown",
   "source": "# add hourly differences ",
   "id": "c609c01635e59eb3"
  },
  {
   "metadata": {},
   "cell_type": "code",
   "source": [
    "\n",
    "# Assuming df_copy is already defined and DateTime is the index\n",
    "df_copy.index = pd.to_datetime(df_copy.index)\n",
    "\n",
    "# Resample the data to hourly frequency\n",
    "df_hourly = df_copy.resample('H').mean()\n",
    "\n",
    "# Calculate the hourly differences\n",
    "df_hourly['electricity_hourly_diff'] = df_hourly['electricity'].diff().fillna(0)\n",
    "df_hourly['heating_hourly_diff'] = df_hourly['heating'].diff().fillna(0)\n",
    "df_hourly"
   ],
   "id": "f971d37edceb237a",
   "outputs": [],
   "execution_count": null
  },
  {
   "metadata": {},
   "cell_type": "code",
   "source": "df_hourly.drop(columns=['electricity', 'heating','electricity_15min_diff','heating_15min_diff'], inplace=True)",
   "id": "b8747533b5f37812",
   "outputs": [],
   "execution_count": null
  },
  {
   "metadata": {},
   "cell_type": "code",
   "source": "df_hourly.columns",
   "id": "b4a176b8e6a26ac6",
   "outputs": [],
   "execution_count": null
  },
  {
   "metadata": {},
   "cell_type": "code",
   "source": [
    "new_columns = ['electricity_hourly_diff', 'heating_hourly_diff','is_holiday', 'day_of_week', 'hour_of_day', 'is_working_hour', 'number_of_people']\n",
    "df_hourly = df_hourly[new_columns]"
   ],
   "id": "20ab431d39107d6e",
   "outputs": [],
   "execution_count": null
  },
  {
   "metadata": {},
   "cell_type": "code",
   "source": "df_hourly",
   "id": "443fb1555bda14ee",
   "outputs": [],
   "execution_count": null
  },
  {
   "metadata": {},
   "cell_type": "code",
   "source": [
    "# Define the output folder and file path\n",
    "output_folder = '..\\\\data_preprocessing\\\\Processed_data'\n",
    "output_file = os.path.join(output_folder, '002_verwaltung_hourly_with_holidays_counrs_person.csv')\n",
    "\n",
    "# Create the folder if it doesn't exist\n",
    "os.makedirs(output_folder, exist_ok=True)\n",
    "\n",
    "# Export the DataFrame to a CSV file\n",
    "df_hourly.to_csv(output_file)\n",
    "\n",
    "print(f\"DataFrame exported to {output_file}\")"
   ],
   "id": "83492320cc5262fb",
   "outputs": [],
   "execution_count": null
  },
  {
   "metadata": {},
   "cell_type": "code",
   "source": "",
   "id": "a86df1ccdaad0b55",
   "outputs": [],
   "execution_count": null
  }
 ],
 "metadata": {
  "kernelspec": {
   "display_name": "py38",
   "language": "python",
   "name": "python3"
  },
  "language_info": {
   "codemirror_mode": {
    "name": "ipython",
    "version": 3
   },
   "file_extension": ".py",
   "mimetype": "text/x-python",
   "name": "python",
   "nbconvert_exporter": "python",
   "pygments_lexer": "ipython3",
   "version": "3.8.19"
  }
 },
 "nbformat": 4,
 "nbformat_minor": 5
}
